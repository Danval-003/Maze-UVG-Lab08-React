{
  "nbformat": 4,
  "nbformat_minor": 0,
  "metadata": {
    "colab": {
      "provenance": []
    },
    "kernelspec": {
      "name": "python3",
      "display_name": "Python 3"
    },
    "language_info": {
      "name": "python"
    }
  },
  "cells": [
    {
      "cell_type": "code",
      "execution_count": 3,
      "metadata": {
        "id": "-5dDXHTfurWi"
      },
      "outputs": [],
      "source": [
        "import numpy as np"
      ]
    },
    {
      "cell_type": "code",
      "source": [
        "#Universidad del Valle de Guatemala\n",
        "#Teoría de probabilidades - Sección 21\n",
        "#Integrantes:\n",
        "#-Diego Alexander Hernández Silvestre - 21270\n",
        "#-Daniel Armando Valdez Reyes - 21240\n",
        "#-Samuel Alejandro Chamalé Rac - 21881\n",
        "#-Linda Inés Jiménez Vides - 21109\n",
        "#-Kristopher Javier Alvarado Lopez - 21188\n",
        "#-Mario Antonio Guerra Morales - 21008 \n",
        "eleccion= np.random.choice(a=[0, 1,2], size=100, p=[1/3,1/3,1/3])\n",
        "eleccion"
      ],
      "metadata": {
        "colab": {
          "base_uri": "https://localhost:8080/"
        },
        "id": "YeomLkAEvfNo",
        "outputId": "349ac42f-fb6d-4244-80eb-cdc53e02f0e3"
      },
      "execution_count": 7,
      "outputs": [
        {
          "output_type": "execute_result",
          "data": {
            "text/plain": [
              "0.29"
            ]
          },
          "metadata": {},
          "execution_count": 7
        }
      ]
    },
    {
      "cell_type": "code",
      "source": [
        "carro=np.random.choice(a=[0,1,2],size=100,p=[1/3,1/3,1/3])\n",
        "carro"
      ],
      "metadata": {
        "colab": {
          "base_uri": "https://localhost:8080/"
        },
        "id": "X4YhFD71vtS7",
        "outputId": "09ebfd43-e0a3-4dee-c027-d5643ec6bf09"
      },
      "execution_count": 15,
      "outputs": [
        {
          "output_type": "execute_result",
          "data": {
            "text/plain": [
              "array([1, 2, 0, 2, 2, 2, 0, 2, 0, 0, 1, 1, 2, 1, 0, 2, 1, 2, 0, 1, 1, 1,\n",
              "       0, 0, 1, 2, 2, 2, 1, 1, 2, 1, 1, 2, 0, 0, 0, 0, 2, 2, 0, 2, 0, 0,\n",
              "       2, 1, 1, 1, 1, 0, 2, 1, 1, 2, 0, 0, 1, 0, 1, 2, 0, 2, 2, 1, 0, 0,\n",
              "       2, 0, 0, 1, 2, 2, 1, 1, 0, 1, 1, 2, 1, 0, 1, 1, 2, 0, 0, 1, 0, 1,\n",
              "       0, 1, 0, 0, 2, 0, 2, 0, 0, 0, 0, 1])"
            ]
          },
          "metadata": {},
          "execution_count": 15
        }
      ]
    },
    {
      "cell_type": "code",
      "source": [
        "counter=0\n",
        "for i in range(len(eleccion)):\n",
        "  if carro[i]==eleccion[i]:\n",
        "    counter+=1\n",
        "counter/len(eleccion)\n",
        "# Justificación complemento.\n",
        "(len(eleccion)-counter)/len(eleccion)"
      ],
      "metadata": {
        "colab": {
          "base_uri": "https://localhost:8080/"
        },
        "id": "1o0eOCnQwWEk",
        "outputId": "7aef8782-cf79-4078-bc03-4a65d832aad0"
      },
      "execution_count": 19,
      "outputs": [
        {
          "output_type": "execute_result",
          "data": {
            "text/plain": [
              "0.69"
            ]
          },
          "metadata": {},
          "execution_count": 19
        }
      ]
    }
  ]
}